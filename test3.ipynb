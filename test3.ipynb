{
 "cells": [
  {
   "cell_type": "code",
   "execution_count": 5,
   "metadata": {},
   "outputs": [],
   "source": [
    "import numpy as np\n",
    "import cv2\n",
    "from PIL import ImageGrab\n",
    "from PIL import Image\n",
    "from PIL import ImageOps\n",
    "import time\n",
    "import pytesseract\n",
    "import pyttsx3\n",
    "\n",
    "\n",
    "pytesseract.pytesseract.tesseract_cmd = r'/usr/local/Cellar/tesseract/4.1.1/bin/tesseract'\n",
    "\n",
    "def collect_screenshots_app():\n",
    "    t = 0\n",
    "\n",
    "    while t<100:\n",
    "        time.sleep(1)\n",
    "\n",
    "        #make a screenshot of the screen\n",
    "        image = ImageGrab.grab()\n",
    "        image_text = \"Photo logs/\" + \"full image\" + time.strftime(\"%H:%M:%S\", time.localtime()) + \".png\"\n",
    "        image.save(image_text)\n",
    "    \n",
    "\n",
    "def app():\n",
    "    t = 0\n",
    "\n",
    "    while t<20:\n",
    "        time.sleep(10)\n",
    "        text = collect_supply_count()\n",
    "        text = text.replace('/',' ')\n",
    "        if text: \n",
    "            read_out(text)\n",
    "        t += 1\n",
    "        print(\"t = {}\".format(t))\n",
    "        print(\"text:{}\".format(text))\n",
    "        print(\"time:{}\".format(time.strftime(\"%H:%M:%S\", time.localtime())))\n",
    "\n",
    "#return string of current supply count\n",
    "def collect_supply_count():\n",
    "    \n",
    "    #make a screenshot of the screen\n",
    "    image = ImageGrab.grab()\n",
    "    image_text = \"Photo logs/\" + \"full image\" + time.strftime(\"%H:%M:%S\", time.localtime()) + \".png\"\n",
    "    image.save(image_text)\n",
    "    \n",
    "    #crop the image to include only supply count\n",
    "    supply_count_image = collect_supply_count_image(image)\n",
    "    \n",
    "    return pytesseract.image_to_string(supply_count_image)\n",
    "\n",
    "#crop full_screen image to zoom in the supply count, returns cropped image\n",
    "#TO DO: Adjust for screen sizes\n",
    "def collect_supply_count_image(image):\n",
    "    #cropping to collect the right part of the image\n",
    "    image_cropped = image.crop((1500, 10, 1575, 40))\n",
    "    \n",
    "    #saving the image for reference\n",
    "    image_legend = \"Photo logs/\" + \"cropped image pre-processing\" + time.strftime(\"%H:%M:%S\", time.localtime()) + \".png\"\n",
    "    image_cropped.save(image_legend)\n",
    "    \n",
    "    #converting it to back and white\n",
    "    image_bnw = image_cropped.convert('LA').convert('RGB')    \n",
    "    \n",
    "    #thresholding it\n",
    "    threshold = 190  \n",
    "    image_thd = image_bnw.point(lambda p: p > threshold and 255)  \n",
    "\n",
    "    #inverting it\n",
    "    image_processed = ImageOps.invert(image_thd)\n",
    "    \n",
    "    #saving the procssed image for reference\n",
    "    image_legend = \"Photo logs/\" + \"cropped image post-processing\" + time.strftime(\"%H:%M:%S\", time.localtime()) + \".png\"\n",
    "    image_processed.save(image_legend)\n",
    "    \n",
    "    return image_processed\n",
    "\n",
    "#image = ImageGrab.grab()\n",
    "#image.save(\"text.png\")\n",
    "\n",
    "#Create, save and read out audio text\n",
    "#Argument: audio to read\n",
    "def read_out(mytext):\n",
    "    text_path = \"Audios/\" + mytext + \".mp3\"\n",
    "    \n",
    "    #if existing audio exists then just play it\n",
    "    if not os.path.exists(text_path):\n",
    "        myobj = gTTS(text=mytext, lang=language, slow=False) \n",
    "        myobj.save(text_path) \n",
    "        \n",
    "    os.system(\"afplay \" + \"'\" + text_legend + \"'\") "
   ]
  },
  {
   "cell_type": "code",
   "execution_count": 70,
   "metadata": {},
   "outputs": [
    {
     "name": "stdout",
     "output_type": "stream",
     "text": [
      "t = 1\n",
      "text:\n",
      "time:21:13:43\n",
      "t = 2\n",
      "text:\n",
      "time:21:13:55\n",
      "Audios/13 15.mp3\n",
      "t = 3\n",
      "text:13 15\n",
      "time:21:14:09\n",
      "Audios/14 15.mp3\n",
      "t = 4\n",
      "text:14 15\n",
      "time:21:14:26\n",
      "Audios/15 15.mp3\n",
      "t = 5\n",
      "text:15 15\n",
      "time:21:14:41\n",
      "t = 6\n",
      "text:\n",
      "time:21:14:56\n",
      "Audios/17 23.mp3\n",
      "t = 7\n",
      "text:17 23\n",
      "time:21:15:11\n",
      "Audios/18 23.mp3\n",
      "t = 8\n",
      "text:18 23\n",
      "time:21:15:27\n",
      "Audios/20 23.mp3\n",
      "t = 9\n",
      "text:20 23\n",
      "time:21:15:41\n",
      "Audios/20 23.mp3\n",
      "t = 10\n",
      "text:20 23\n",
      "time:21:15:57\n",
      "Audios/pres.mp3\n",
      "t = 11\n",
      "text:pres\n",
      "time:21:16:13\n",
      "Audios/24 31.mp3\n",
      "t = 12\n",
      "text:24 31\n",
      "time:21:16:28\n",
      "Audios/25 31.mp3\n",
      "t = 13\n",
      "text:25 31\n",
      "time:21:16:44\n",
      "Audios/27 31.mp3\n",
      "t = 14\n",
      "text:27 31\n",
      "time:21:17:00\n",
      "Audios/29 46.mp3\n",
      "t = 15\n",
      "text:29 46\n",
      "time:21:17:16\n",
      "Audios/31 46.mp3\n",
      "t = 16\n",
      "text:31 46\n",
      "time:21:17:33\n",
      "Audios/saa6.mp3\n",
      "t = 17\n",
      "text:saa6\n",
      "time:21:17:49\n",
      "Audios/a1yas.mp3\n",
      "t = 18\n",
      "text:a1yas\n",
      "time:21:18:07\n",
      "Audios/48 54.mp3\n",
      "t = 19\n",
      "text:48 54\n",
      "time:21:18:23\n",
      "Audios/52 62.mp3\n",
      "t = 20\n",
      "text:52 62\n",
      "time:21:18:41\n"
     ]
    }
   ],
   "source": [
    "app()"
   ]
  },
  {
   "cell_type": "code",
   "execution_count": 12,
   "metadata": {},
   "outputs": [
    {
     "name": "stdout",
     "output_type": "stream",
     "text": [
      "22/31\n"
     ]
    }
   ],
   "source": [
    "from PIL import Image\n",
    "from PIL import ImageOps\n",
    "import cv2\n",
    "import numpy\n",
    "\n",
    "import PIL.ImageOps    \n",
    "\n",
    "image = Image.open(\"test_image-bis.png\").convert('LA').convert('RGB')\n",
    "\n",
    "threshold = 190  \n",
    "image_bis = image.point(lambda p: p > threshold and 255)  \n",
    "image_ter = ImageOps.invert(image_bis)\n",
    "\n",
    "#image_ter.show()\n",
    "\n",
    "print(pytesseract.image_to_string(image_ter, config='tessedit_char_whitelist=0123456789'))"
   ]
  },
  {
   "cell_type": "code",
   "execution_count": 11,
   "metadata": {},
   "outputs": [],
   "source": [
    "image3 = PIL.ImageOps.invert(image)"
   ]
  },
  {
   "cell_type": "code",
   "execution_count": null,
   "metadata": {},
   "outputs": [],
   "source": [
    "image = cv2.imread(\"test_image.png\")\n",
    "\n",
    "gray = cv2.cvtColor(image, cv2.COLOR_BGR2GRAY)\n",
    "\n",
    "threshold = cv2.threshold(gray, 0, 255, cv2.THRESH_BINARY | cv2.THRESH_OTSU)[1]"
   ]
  },
  {
   "cell_type": "code",
   "execution_count": null,
   "metadata": {},
   "outputs": [],
   "source": [
    "cv2.imshow(\"image\",image)\n",
    "\n",
    "cv2.imshow(\"black and white\",gray)\n",
    "\n",
    "cv2.imshow(\"threshold\",threshold)\n",
    "\n",
    "cv2.waitKey(0)\n",
    "cv2.destroyAllWindows()"
   ]
  },
  {
   "cell_type": "code",
   "execution_count": 3,
   "metadata": {},
   "outputs": [],
   "source": [
    "img_inverted = cv2.bitwise_not(threshold)"
   ]
  },
  {
   "cell_type": "code",
   "execution_count": 4,
   "metadata": {},
   "outputs": [],
   "source": [
    "cv2.imshow(\"Invert1\",img_inverted)"
   ]
  },
  {
   "cell_type": "code",
   "execution_count": 14,
   "metadata": {},
   "outputs": [
    {
     "name": "stdout",
     "output_type": "stream",
     "text": [
      "31/31\n"
     ]
    }
   ],
   "source": [
    "import pytesseract\n",
    "\n",
    "pytesseract.pytesseract.tesseract_cmd = r'/usr/local/Cellar/tesseract/4.1.1/bin/tesseract'\n",
    "\n",
    "print(pytesseract.image_to_string(image3, config='tessedit_char_whitelist=0123456789'))"
   ]
  },
  {
   "cell_type": "code",
   "execution_count": 34,
   "metadata": {},
   "outputs": [
    {
     "ename": "RuntimeError",
     "evalue": "run loop already started",
     "output_type": "error",
     "traceback": [
      "\u001b[0;31m---------------------------------------------------------------------------\u001b[0m",
      "\u001b[0;31mRuntimeError\u001b[0m                              Traceback (most recent call last)",
      "\u001b[0;32m<ipython-input-34-024b91f5de67>\u001b[0m in \u001b[0;36m<module>\u001b[0;34m\u001b[0m\n\u001b[1;32m      3\u001b[0m \u001b[0mengine\u001b[0m \u001b[0;34m=\u001b[0m \u001b[0mpyttsx3\u001b[0m\u001b[0;34m.\u001b[0m\u001b[0minit\u001b[0m\u001b[0;34m(\u001b[0m\u001b[0;34m)\u001b[0m\u001b[0;34m\u001b[0m\u001b[0;34m\u001b[0m\u001b[0m\n\u001b[1;32m      4\u001b[0m \u001b[0mengine\u001b[0m\u001b[0;34m.\u001b[0m\u001b[0msay\u001b[0m\u001b[0;34m(\u001b[0m\u001b[0;34m\"I will speak this text\"\u001b[0m\u001b[0;34m)\u001b[0m\u001b[0;34m\u001b[0m\u001b[0;34m\u001b[0m\u001b[0m\n\u001b[0;32m----> 5\u001b[0;31m \u001b[0mengine\u001b[0m\u001b[0;34m.\u001b[0m\u001b[0mrunAndWait\u001b[0m\u001b[0;34m(\u001b[0m\u001b[0;34m)\u001b[0m\u001b[0;34m\u001b[0m\u001b[0;34m\u001b[0m\u001b[0m\n\u001b[0m",
      "\u001b[0;32m~/anaconda3/lib/python3.7/site-packages/pyttsx3/engine.py\u001b[0m in \u001b[0;36mrunAndWait\u001b[0;34m(self)\u001b[0m\n\u001b[1;32m    175\u001b[0m         \"\"\"\n\u001b[1;32m    176\u001b[0m         \u001b[0;32mif\u001b[0m \u001b[0mself\u001b[0m\u001b[0;34m.\u001b[0m\u001b[0m_inLoop\u001b[0m\u001b[0;34m:\u001b[0m\u001b[0;34m\u001b[0m\u001b[0;34m\u001b[0m\u001b[0m\n\u001b[0;32m--> 177\u001b[0;31m             \u001b[0;32mraise\u001b[0m \u001b[0mRuntimeError\u001b[0m\u001b[0;34m(\u001b[0m\u001b[0;34m'run loop already started'\u001b[0m\u001b[0;34m)\u001b[0m\u001b[0;34m\u001b[0m\u001b[0;34m\u001b[0m\u001b[0m\n\u001b[0m\u001b[1;32m    178\u001b[0m         \u001b[0mself\u001b[0m\u001b[0;34m.\u001b[0m\u001b[0m_inLoop\u001b[0m \u001b[0;34m=\u001b[0m \u001b[0;32mTrue\u001b[0m\u001b[0;34m\u001b[0m\u001b[0;34m\u001b[0m\u001b[0m\n\u001b[1;32m    179\u001b[0m         \u001b[0mself\u001b[0m\u001b[0;34m.\u001b[0m\u001b[0m_driverLoop\u001b[0m \u001b[0;34m=\u001b[0m \u001b[0;32mTrue\u001b[0m\u001b[0;34m\u001b[0m\u001b[0;34m\u001b[0m\u001b[0m\n",
      "\u001b[0;31mRuntimeError\u001b[0m: run loop already started"
     ]
    }
   ],
   "source": [
    "import pyttsx3\n",
    "\n",
    "engine = pyttsx3.init()\n",
    "engine.say(\"I will speak this text\")\n",
    "engine.runAndWait()"
   ]
  },
  {
   "cell_type": "code",
   "execution_count": 3,
   "metadata": {},
   "outputs": [
    {
     "ename": "NameError",
     "evalue": "name 'engine' is not defined",
     "output_type": "error",
     "traceback": [
      "\u001b[0;31m---------------------------------------------------------------------------\u001b[0m",
      "\u001b[0;31mNameError\u001b[0m                                 Traceback (most recent call last)",
      "\u001b[0;32m<ipython-input-3-439e3132e37d>\u001b[0m in \u001b[0;36m<module>\u001b[0;34m\u001b[0m\n\u001b[0;32m----> 1\u001b[0;31m \u001b[0mengine\u001b[0m\u001b[0;34m.\u001b[0m\u001b[0mendLoop\u001b[0m\u001b[0;34m(\u001b[0m\u001b[0;34m)\u001b[0m\u001b[0;34m\u001b[0m\u001b[0;34m\u001b[0m\u001b[0m\n\u001b[0m",
      "\u001b[0;31mNameError\u001b[0m: name 'engine' is not defined"
     ]
    }
   ],
   "source": [
    "engine.endLoop()"
   ]
  },
  {
   "cell_type": "code",
   "execution_count": 13,
   "metadata": {},
   "outputs": [
    {
     "ename": "NameError",
     "evalue": "name 'image' is not defined",
     "output_type": "error",
     "traceback": [
      "\u001b[0;31m---------------------------------------------------------------------------\u001b[0m",
      "\u001b[0;31mNameError\u001b[0m                                 Traceback (most recent call last)",
      "\u001b[0;32m<ipython-input-13-51d9880819a4>\u001b[0m in \u001b[0;36m<module>\u001b[0;34m\u001b[0m\n\u001b[0;32m----> 1\u001b[0;31m \u001b[0mprint\u001b[0m\u001b[0;34m(\u001b[0m\u001b[0mimage\u001b[0m\u001b[0;34m.\u001b[0m\u001b[0msize\u001b[0m\u001b[0;34m)\u001b[0m\u001b[0;34m\u001b[0m\u001b[0;34m\u001b[0m\u001b[0m\n\u001b[0m",
      "\u001b[0;31mNameError\u001b[0m: name 'image' is not defined"
     ]
    }
   ],
   "source": [
    "print(image.size)"
   ]
  },
  {
   "cell_type": "code",
   "execution_count": 27,
   "metadata": {},
   "outputs": [
    {
     "name": "stdout",
     "output_type": "stream",
     "text": [
      "##########"
     ]
    }
   ],
   "source": [
    "for i in range(10):\n",
    "    time.sleep(0.1)\n",
    "    print(\"#\", end = '', flush=True)"
   ]
  },
  {
   "cell_type": "code",
   "execution_count": 5,
   "metadata": {},
   "outputs": [],
   "source": [
    "    image = ImageGrab.grab()\n",
    "    image_text =  \"cropped image\" + time.strftime(\"%H:%M:%S\", time.localtime()) + \".png\"\n",
    "    image.save(image_text)"
   ]
  },
  {
   "cell_type": "code",
   "execution_count": 6,
   "metadata": {},
   "outputs": [
    {
     "ename": "KeyboardInterrupt",
     "evalue": "",
     "output_type": "error",
     "traceback": [
      "\u001b[0;31m---------------------------------------------------------------------------\u001b[0m",
      "\u001b[0;31mKeyboardInterrupt\u001b[0m                         Traceback (most recent call last)",
      "\u001b[0;32m<ipython-input-6-e7b323269cc1>\u001b[0m in \u001b[0;36m<module>\u001b[0;34m\u001b[0m\n\u001b[0;32m----> 1\u001b[0;31m \u001b[0mcollect_screenshots_app\u001b[0m\u001b[0;34m(\u001b[0m\u001b[0;34m)\u001b[0m\u001b[0;34m\u001b[0m\u001b[0;34m\u001b[0m\u001b[0m\n\u001b[0m",
      "\u001b[0;32m<ipython-input-5-6b0863900332>\u001b[0m in \u001b[0;36mcollect_screenshots_app\u001b[0;34m()\u001b[0m\n\u001b[1;32m     15\u001b[0m \u001b[0;34m\u001b[0m\u001b[0m\n\u001b[1;32m     16\u001b[0m     \u001b[0;32mwhile\u001b[0m \u001b[0mt\u001b[0m\u001b[0;34m<\u001b[0m\u001b[0;36m100\u001b[0m\u001b[0;34m:\u001b[0m\u001b[0;34m\u001b[0m\u001b[0;34m\u001b[0m\u001b[0m\n\u001b[0;32m---> 17\u001b[0;31m         \u001b[0mtime\u001b[0m\u001b[0;34m.\u001b[0m\u001b[0msleep\u001b[0m\u001b[0;34m(\u001b[0m\u001b[0;36m1\u001b[0m\u001b[0;34m)\u001b[0m\u001b[0;34m\u001b[0m\u001b[0;34m\u001b[0m\u001b[0m\n\u001b[0m\u001b[1;32m     18\u001b[0m \u001b[0;34m\u001b[0m\u001b[0m\n\u001b[1;32m     19\u001b[0m         \u001b[0;31m#make a screenshot of the screen\u001b[0m\u001b[0;34m\u001b[0m\u001b[0;34m\u001b[0m\u001b[0;34m\u001b[0m\u001b[0m\n",
      "\u001b[0;31mKeyboardInterrupt\u001b[0m: "
     ]
    }
   ],
   "source": [
    "collect_screenshots_app()"
   ]
  },
  {
   "cell_type": "code",
   "execution_count": null,
   "metadata": {},
   "outputs": [],
   "source": []
  }
 ],
 "metadata": {
  "kernelspec": {
   "display_name": "Python 3",
   "language": "python",
   "name": "python3"
  },
  "language_info": {
   "codemirror_mode": {
    "name": "ipython",
    "version": 3
   },
   "file_extension": ".py",
   "mimetype": "text/x-python",
   "name": "python",
   "nbconvert_exporter": "python",
   "pygments_lexer": "ipython3",
   "version": "3.7.3"
  }
 },
 "nbformat": 4,
 "nbformat_minor": 4
}
