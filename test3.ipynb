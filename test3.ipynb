{
 "cells": [
  {
   "cell_type": "code",
   "execution_count": 31,
   "metadata": {},
   "outputs": [],
   "source": [
    "import numpy as np\n",
    "import cv2\n",
    "from PIL import ImageGrab\n",
    "from PIL import Image\n",
    "import time\n",
    "\n",
    "# import the necessary packages\n",
    "from imutils.perspective import four_point_transform\n",
    "from imutils import contours\n",
    "import imutils\n",
    "import cv2\n",
    "\n",
    "\n",
    "t = 0\n",
    "\n",
    "def collect_images():\n",
    "    while t < 10: \n",
    "        time.sleep(30)\n",
    "        img = ImageGrab.grab()\n",
    "        name = \"Image\" + time.strftime(\"%b %d %Y %H:%M:%S\", time.gmtime(t)) + \".png\"\n",
    "        img.save(name, \"PNG\")\n",
    "\n",
    "        t += 1\n",
    "        \n",
    "#crop full_screen image to zoom in the supply count, returns cropped image\n",
    "#TO DO: Adjust for screen sizes\n",
    "def collect_supply_count_image(image_path):\n",
    "    image = Image.open(image_path)\n",
    "    imagebis = image.crop((1500, 10, 1575, 40))\n",
    "    return imagebis\n",
    "\n",
    "collect_supply_count_image(\"sc2_bis.png\").show()"
   ]
  },
  {
   "cell_type": "code",
   "execution_count": 17,
   "metadata": {},
   "outputs": [
    {
     "name": "stdout",
     "output_type": "stream",
     "text": [
      "(1650, 1050)\n"
     ]
    }
   ],
   "source": [
    "print(image.size)"
   ]
  },
  {
   "cell_type": "code",
   "execution_count": null,
   "metadata": {},
   "outputs": [],
   "source": []
  }
 ],
 "metadata": {
  "kernelspec": {
   "display_name": "Python 3",
   "language": "python",
   "name": "python3"
  },
  "language_info": {
   "codemirror_mode": {
    "name": "ipython",
    "version": 3
   },
   "file_extension": ".py",
   "mimetype": "text/x-python",
   "name": "python",
   "nbconvert_exporter": "python",
   "pygments_lexer": "ipython3",
   "version": "3.7.3"
  }
 },
 "nbformat": 4,
 "nbformat_minor": 4
}
