{
 "cells": [
  {
   "cell_type": "code",
   "execution_count": 32,
   "metadata": {},
   "outputs": [],
   "source": []
  },
  {
   "cell_type": "code",
   "execution_count": 33,
   "metadata": {},
   "outputs": [
    {
     "ename": "FileExistsError",
     "evalue": "[Errno 17] File exists: 'Training data processed'",
     "output_type": "error",
     "traceback": [
      "\u001b[0;31m---------------------------------------------------------------------------\u001b[0m",
      "\u001b[0;31mFileExistsError\u001b[0m                           Traceback (most recent call last)",
      "\u001b[0;32m<ipython-input-33-cfbe2a793b1b>\u001b[0m in \u001b[0;36m<module>\u001b[0;34m\u001b[0m\n\u001b[1;32m      5\u001b[0m \u001b[0;32mimport\u001b[0m \u001b[0mos\u001b[0m\u001b[0;34m\u001b[0m\u001b[0;34m\u001b[0m\u001b[0m\n\u001b[1;32m      6\u001b[0m \u001b[0;34m\u001b[0m\u001b[0m\n\u001b[0;32m----> 7\u001b[0;31m \u001b[0mos\u001b[0m\u001b[0;34m.\u001b[0m\u001b[0mmkdir\u001b[0m\u001b[0;34m(\u001b[0m\u001b[0mbase_dir\u001b[0m\u001b[0;34m)\u001b[0m\u001b[0;34m\u001b[0m\u001b[0;34m\u001b[0m\u001b[0m\n\u001b[0m\u001b[1;32m      8\u001b[0m \u001b[0;34m\u001b[0m\u001b[0m\n\u001b[1;32m      9\u001b[0m \u001b[0mcategories\u001b[0m \u001b[0;34m=\u001b[0m \u001b[0;34m[\u001b[0m\u001b[0;34m'Pylon'\u001b[0m\u001b[0;34m,\u001b[0m \u001b[0;34m'Twilight'\u001b[0m\u001b[0;34m]\u001b[0m\u001b[0;34m\u001b[0m\u001b[0;34m\u001b[0m\u001b[0m\n",
      "\u001b[0;31mFileExistsError\u001b[0m: [Errno 17] File exists: 'Training data processed'"
     ]
    }
   ],
   "source": [
    "#create the required directory\n",
    "\n",
    "base_dir = \"Training data processed\"\n",
    "\n",
    "import os\n",
    "\n",
    "os.mkdir(base_dir)\n",
    "\n",
    "categories = ['Pylon', 'Twilight']\n",
    "\n",
    "for i in categories:\n",
    "    try:\n",
    "        #os.system(\"sudo mkdir Pylon\")\n",
    "        os.mkdir(base_dir + '/%s' % i)\n",
    "    except OSError as e:\n",
    "        print(e)"
   ]
  },
  {
   "cell_type": "code",
   "execution_count": 34,
   "metadata": {},
   "outputs": [],
   "source": [
    "from PIL import Image\n",
    "import os \n",
    "import numpy as np\n",
    "\n",
    "counter = 0\n",
    "\n",
    "def reformat_training_images():\n",
    "    \n",
    "    categories = ['Pylon', 'Twilight']\n",
    "    \n",
    "    original_data_folder = \"Training data cropped\"\n",
    "    target_data_folder = \"Training data processed\"\n",
    "    \n",
    "    for category in categories: \n",
    "        #current folder, e.g., \"Training data cropped/Pylon\"\n",
    "        current_folder = original_data_folder + \"/\" + category\n",
    "        counter = 1        \n",
    "        \n",
    "        #iterate through all the images in training_data_cropped\n",
    "        for filename in os.listdir(current_folder):\n",
    "\n",
    "            if filename.endswith(\".jpg\") or filename.endswith(\".png\"):\n",
    "                img = Image.open(current_folder + \"/\" + filename)\n",
    "                #theoretically should reshape but here they're all 250, 250\n",
    "                img = img.convert(\"RGB\")\n",
    "                img.save(target_data_folder + \"/\" + category + \"/\" + \"image\" + str(counter) + \".png\")\n",
    "                counter += 1\n",
    "\n",
    "reformat_training_images()"
   ]
  },
  {
   "cell_type": "code",
   "execution_count": 45,
   "metadata": {},
   "outputs": [
    {
     "name": "stdout",
     "output_type": "stream",
     "text": [
      "env: IM2REC=incubator-mxnet/tools/im2rec.py\n",
      "env: BASE_DIR=Training_data_processed\n"
     ]
    }
   ],
   "source": [
    "# Here we will search for the python script im2rec\n",
    "import sys,os\n",
    "\n",
    "base_dir = \"Training_data_processed\"\n",
    "\n",
    "suffix='incubator-mxnet/tools/im2rec.py'\n",
    "im2rec = list(filter( (lambda x: os.path.isfile(x + suffix )), sys.path))[0] + suffix\n",
    "%env IM2REC=$im2rec\n",
    "%env BASE_DIR=$base_dir"
   ]
  },
  {
   "cell_type": "code",
   "execution_count": 47,
   "metadata": {},
   "outputs": [
    {
     "name": "stdout",
     "output_type": "stream",
     "text": [
      "Pylon 0\n",
      "Pylon/.ipynb_checkpoints 1\n",
      "Twilight 2\n",
      "protoss_building_test.lst\n",
      "protoss_building_train.lst\n"
     ]
    }
   ],
   "source": [
    "%%bash\n",
    "\n",
    "# Ok. Here, im2rec will read all the images and create two .lst files, one for training and other for validation\n",
    "# this files will then be used for creating the RecordIO files\n",
    "\n",
    "#cd $BASE_DIR\n",
    "python $IM2REC --list --recursive --test-ratio=0.2 --train-ratio=0.8 protoss_building training_data_processed/\n",
    "ls *.lst"
   ]
  },
  {
   "cell_type": "code",
   "execution_count": 50,
   "metadata": {},
   "outputs": [
    {
     "name": "stdout",
     "output_type": "stream",
     "text": [
      "Creating .rec file from /Users/emmanuelsevrin/Desktop/sc2_advisor/Model_training/protoss_building_train.lst in /Users/emmanuelsevrin/Desktop/sc2_advisor/Model_training\n",
      "time: 0.011706113815307617  count: 0\n",
      "Creating .rec file from /Users/emmanuelsevrin/Desktop/sc2_advisor/Model_training/protoss_building_test.lst in /Users/emmanuelsevrin/Desktop/sc2_advisor/Model_training\n",
      "time: 0.005207061767578125  count: 0\n",
      "protoss_building_test.rec\n",
      "protoss_building_train.rec\n"
     ]
    }
   ],
   "source": [
    "%%bash \n",
    "\n",
    "python $IM2REC --num-thread=4 --pass-through protoss_building_train.lst Training_data_processed\n",
    "python $IM2REC --num-thread=4 --pass-through protoss_building_test.lst Training_data_processed\n",
    "ls *.rec"
   ]
  },
  {
   "cell_type": "code",
   "execution_count": null,
   "metadata": {},
   "outputs": [],
   "source": []
  }
 ],
 "metadata": {
  "kernelspec": {
   "display_name": "Python 3",
   "language": "python",
   "name": "python3"
  },
  "language_info": {
   "codemirror_mode": {
    "name": "ipython",
    "version": 3
   },
   "file_extension": ".py",
   "mimetype": "text/x-python",
   "name": "python",
   "nbconvert_exporter": "python",
   "pygments_lexer": "ipython3",
   "version": "3.7.3"
  }
 },
 "nbformat": 4,
 "nbformat_minor": 4
}
